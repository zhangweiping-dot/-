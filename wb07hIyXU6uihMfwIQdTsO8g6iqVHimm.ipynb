{
 "cells": [
  {
   "cell_type": "code",
   "execution_count": 3,
   "metadata": {},
   "outputs": [],
   "source": [
    "# 导入所需的package\n",
    "import seaborn as sns #用于画图\n",
    "from bs4 import BeautifulSoup #用于爬取arxiv的数据\n",
    "import re #用于正则表达式，匹配字符串的模式\n",
    "import requests #用于网络连接，发送网络请求，使用域名获取对应信息\n",
    "import json #读取数据，我们的数据为json格式的\n",
    "import pandas as pd #数据处理，数据分析\n",
    "import matplotlib.pyplot as plt #画图工具"
   ]
  },
  {
   "cell_type": "code",
   "execution_count": 4,
   "metadata": {},
   "outputs": [
    {
     "data": {
      "text/plain": [
       "(100, 14)"
      ]
     },
     "execution_count": 4,
     "metadata": {},
     "output_type": "execute_result"
    }
   ],
   "source": [
    "# 读入数据\n",
    "data  = []\n",
    "\n",
    "#使用with语句优势：1.自动关闭文件句柄；2.自动显示（处理）文件读取数据异常\n",
    "with open(\"arxiv-metadata-oai-2019.json\", 'r') as f: \n",
    "    for idx, line in enumerate(f): \n",
    "        \n",
    "        # 读取前100行，如果读取所有数据需要8G内存\n",
    "        if idx >= 100:\n",
    "            break\n",
    "        \n",
    "        data.append(json.loads(line))\n",
    "        \n",
    "data = pd.DataFrame(data) #将list变为dataframe格式，方便使用pandas进行分析\n",
    "data.shape #显示数据大小"
   ]
  },
  {
   "cell_type": "code",
   "execution_count": 5,
   "metadata": {},
   "outputs": [
    {
     "data": {
      "text/plain": [
       "Index(['id', 'submitter', 'authors', 'title', 'comments', 'journal-ref', 'doi',\n",
       "       'report-no', 'categories', 'license', 'abstract', 'versions',\n",
       "       'update_date', 'authors_parsed'],\n",
       "      dtype='object')"
      ]
     },
     "execution_count": 5,
     "metadata": {},
     "output_type": "execute_result"
    }
   ],
   "source": [
    "data.columns #列标签"
   ]
  },
  {
   "cell_type": "code",
   "execution_count": 6,
   "metadata": {},
   "outputs": [
    {
     "data": {
      "text/plain": [
       "RangeIndex(start=0, stop=100, step=1)"
      ]
     },
     "execution_count": 6,
     "metadata": {},
     "output_type": "execute_result"
    }
   ],
   "source": [
    "#行数\n",
    "data.index"
   ]
  },
  {
   "cell_type": "code",
   "execution_count": 7,
   "metadata": {},
   "outputs": [
    {
     "data": {
      "text/html": [
       "<div>\n",
       "<style scoped>\n",
       "    .dataframe tbody tr th:only-of-type {\n",
       "        vertical-align: middle;\n",
       "    }\n",
       "\n",
       "    .dataframe tbody tr th {\n",
       "        vertical-align: top;\n",
       "    }\n",
       "\n",
       "    .dataframe thead th {\n",
       "        text-align: right;\n",
       "    }\n",
       "</style>\n",
       "<table border=\"1\" class=\"dataframe\">\n",
       "  <thead>\n",
       "    <tr style=\"text-align: right;\">\n",
       "      <th></th>\n",
       "      <th>id</th>\n",
       "      <th>submitter</th>\n",
       "      <th>authors</th>\n",
       "      <th>title</th>\n",
       "      <th>comments</th>\n",
       "      <th>journal-ref</th>\n",
       "      <th>doi</th>\n",
       "      <th>report-no</th>\n",
       "      <th>categories</th>\n",
       "      <th>license</th>\n",
       "      <th>abstract</th>\n",
       "      <th>versions</th>\n",
       "      <th>update_date</th>\n",
       "      <th>authors_parsed</th>\n",
       "    </tr>\n",
       "  </thead>\n",
       "  <tbody>\n",
       "    <tr>\n",
       "      <th>0</th>\n",
       "      <td>0704.0297</td>\n",
       "      <td>Sung-Chul Yoon</td>\n",
       "      <td>Sung-Chul Yoon, Philipp Podsiadlowski and Step...</td>\n",
       "      <td>Remnant evolution after a carbon-oxygen white ...</td>\n",
       "      <td>15 pages, 15 figures, 3 tables, submitted to M...</td>\n",
       "      <td>None</td>\n",
       "      <td>10.1111/j.1365-2966.2007.12161.x</td>\n",
       "      <td>None</td>\n",
       "      <td>astro-ph</td>\n",
       "      <td>None</td>\n",
       "      <td>We systematically explore the evolution of t...</td>\n",
       "      <td>[{'version': 'v1', 'created': 'Tue, 3 Apr 2007...</td>\n",
       "      <td>2019-08-19</td>\n",
       "      <td>[[Yoon, Sung-Chul, ], [Podsiadlowski, Philipp,...</td>\n",
       "    </tr>\n",
       "    <tr>\n",
       "      <th>1</th>\n",
       "      <td>0704.0342</td>\n",
       "      <td>Patrice Ntumba Pungu</td>\n",
       "      <td>B. Dugmore and PP. Ntumba</td>\n",
       "      <td>Cofibrations in the Category of Frolicher Spac...</td>\n",
       "      <td>27 pages</td>\n",
       "      <td>None</td>\n",
       "      <td>None</td>\n",
       "      <td>None</td>\n",
       "      <td>math.AT</td>\n",
       "      <td>None</td>\n",
       "      <td>Cofibrations are defined in the category of ...</td>\n",
       "      <td>[{'version': 'v1', 'created': 'Tue, 3 Apr 2007...</td>\n",
       "      <td>2019-08-19</td>\n",
       "      <td>[[Dugmore, B., ], [Ntumba, PP., ]]</td>\n",
       "    </tr>\n",
       "    <tr>\n",
       "      <th>2</th>\n",
       "      <td>0704.0360</td>\n",
       "      <td>Zaqarashvili</td>\n",
       "      <td>T.V. Zaqarashvili and K Murawski</td>\n",
       "      <td>Torsional oscillations of longitudinally inhom...</td>\n",
       "      <td>6 pages, 3 figures, accepted in A&amp;A</td>\n",
       "      <td>None</td>\n",
       "      <td>10.1051/0004-6361:20077246</td>\n",
       "      <td>None</td>\n",
       "      <td>astro-ph</td>\n",
       "      <td>None</td>\n",
       "      <td>We explore the effect of an inhomogeneous ma...</td>\n",
       "      <td>[{'version': 'v1', 'created': 'Tue, 3 Apr 2007...</td>\n",
       "      <td>2019-08-19</td>\n",
       "      <td>[[Zaqarashvili, T. V., ], [Murawski, K, ]]</td>\n",
       "    </tr>\n",
       "    <tr>\n",
       "      <th>3</th>\n",
       "      <td>0704.0525</td>\n",
       "      <td>Sezgin Ayg\\\"un</td>\n",
       "      <td>Sezgin Aygun, Ismail Tarhan, Husnu Baysal</td>\n",
       "      <td>On the Energy-Momentum Problem in Static Einst...</td>\n",
       "      <td>This submission has been withdrawn by arXiv ad...</td>\n",
       "      <td>Chin.Phys.Lett.24:355-358,2007</td>\n",
       "      <td>10.1088/0256-307X/24/2/015</td>\n",
       "      <td>None</td>\n",
       "      <td>gr-qc</td>\n",
       "      <td>None</td>\n",
       "      <td>This paper has been removed by arXiv adminis...</td>\n",
       "      <td>[{'version': 'v1', 'created': 'Wed, 4 Apr 2007...</td>\n",
       "      <td>2019-10-21</td>\n",
       "      <td>[[Aygun, Sezgin, ], [Tarhan, Ismail, ], [Baysa...</td>\n",
       "    </tr>\n",
       "    <tr>\n",
       "      <th>4</th>\n",
       "      <td>0704.0535</td>\n",
       "      <td>Antonio Pipino</td>\n",
       "      <td>Antonio Pipino (1,3), Thomas H. Puzia (2,4), a...</td>\n",
       "      <td>The Formation of Globular Cluster Systems in M...</td>\n",
       "      <td>32 pages (referee format), 9 figures, ApJ acce...</td>\n",
       "      <td>Astrophys.J.665:295-305,2007</td>\n",
       "      <td>10.1086/519546</td>\n",
       "      <td>None</td>\n",
       "      <td>astro-ph</td>\n",
       "      <td>None</td>\n",
       "      <td>The most massive elliptical galaxies show a ...</td>\n",
       "      <td>[{'version': 'v1', 'created': 'Wed, 4 Apr 2007...</td>\n",
       "      <td>2019-08-19</td>\n",
       "      <td>[[Pipino, Antonio, ], [Puzia, Thomas H., ], [M...</td>\n",
       "    </tr>\n",
       "  </tbody>\n",
       "</table>\n",
       "</div>"
      ],
      "text/plain": [
       "          id             submitter  \\\n",
       "0  0704.0297        Sung-Chul Yoon   \n",
       "1  0704.0342  Patrice Ntumba Pungu   \n",
       "2  0704.0360          Zaqarashvili   \n",
       "3  0704.0525        Sezgin Ayg\\\"un   \n",
       "4  0704.0535        Antonio Pipino   \n",
       "\n",
       "                                             authors  \\\n",
       "0  Sung-Chul Yoon, Philipp Podsiadlowski and Step...   \n",
       "1                          B. Dugmore and PP. Ntumba   \n",
       "2                   T.V. Zaqarashvili and K Murawski   \n",
       "3          Sezgin Aygun, Ismail Tarhan, Husnu Baysal   \n",
       "4  Antonio Pipino (1,3), Thomas H. Puzia (2,4), a...   \n",
       "\n",
       "                                               title  \\\n",
       "0  Remnant evolution after a carbon-oxygen white ...   \n",
       "1  Cofibrations in the Category of Frolicher Spac...   \n",
       "2  Torsional oscillations of longitudinally inhom...   \n",
       "3  On the Energy-Momentum Problem in Static Einst...   \n",
       "4  The Formation of Globular Cluster Systems in M...   \n",
       "\n",
       "                                            comments  \\\n",
       "0  15 pages, 15 figures, 3 tables, submitted to M...   \n",
       "1                                           27 pages   \n",
       "2                6 pages, 3 figures, accepted in A&A   \n",
       "3  This submission has been withdrawn by arXiv ad...   \n",
       "4  32 pages (referee format), 9 figures, ApJ acce...   \n",
       "\n",
       "                      journal-ref                               doi report-no  \\\n",
       "0                            None  10.1111/j.1365-2966.2007.12161.x      None   \n",
       "1                            None                              None      None   \n",
       "2                            None        10.1051/0004-6361:20077246      None   \n",
       "3  Chin.Phys.Lett.24:355-358,2007        10.1088/0256-307X/24/2/015      None   \n",
       "4    Astrophys.J.665:295-305,2007                    10.1086/519546      None   \n",
       "\n",
       "  categories license                                           abstract  \\\n",
       "0   astro-ph    None    We systematically explore the evolution of t...   \n",
       "1    math.AT    None    Cofibrations are defined in the category of ...   \n",
       "2   astro-ph    None    We explore the effect of an inhomogeneous ma...   \n",
       "3      gr-qc    None    This paper has been removed by arXiv adminis...   \n",
       "4   astro-ph    None    The most massive elliptical galaxies show a ...   \n",
       "\n",
       "                                            versions update_date  \\\n",
       "0  [{'version': 'v1', 'created': 'Tue, 3 Apr 2007...  2019-08-19   \n",
       "1  [{'version': 'v1', 'created': 'Tue, 3 Apr 2007...  2019-08-19   \n",
       "2  [{'version': 'v1', 'created': 'Tue, 3 Apr 2007...  2019-08-19   \n",
       "3  [{'version': 'v1', 'created': 'Wed, 4 Apr 2007...  2019-10-21   \n",
       "4  [{'version': 'v1', 'created': 'Wed, 4 Apr 2007...  2019-08-19   \n",
       "\n",
       "                                      authors_parsed  \n",
       "0  [[Yoon, Sung-Chul, ], [Podsiadlowski, Philipp,...  \n",
       "1                 [[Dugmore, B., ], [Ntumba, PP., ]]  \n",
       "2         [[Zaqarashvili, T. V., ], [Murawski, K, ]]  \n",
       "3  [[Aygun, Sezgin, ], [Tarhan, Ismail, ], [Baysa...  \n",
       "4  [[Pipino, Antonio, ], [Puzia, Thomas H., ], [M...  "
      ]
     },
     "execution_count": 7,
     "metadata": {},
     "output_type": "execute_result"
    }
   ],
   "source": [
    "data.head() #显示数据的前五行"
   ]
  },
  {
   "cell_type": "code",
   "execution_count": 9,
   "metadata": {},
   "outputs": [
    {
     "ename": "KeyError",
     "evalue": "'categories'",
     "output_type": "error",
     "traceback": [
      "\u001b[0;31m---------------------------------------------------------------------------\u001b[0m",
      "\u001b[0;31mKeyError\u001b[0m                                  Traceback (most recent call last)",
      "\u001b[0;32m<ipython-input-9-0a12822f8596>\u001b[0m in \u001b[0;36m<module>\u001b[0;34m\u001b[0m\n\u001b[1;32m     22\u001b[0m     \u001b[0;32mreturn\u001b[0m \u001b[0mdata\u001b[0m\u001b[0;34m\u001b[0m\u001b[0m\n\u001b[1;32m     23\u001b[0m \u001b[0;34m\u001b[0m\u001b[0m\n\u001b[0;32m---> 24\u001b[0;31m \u001b[0mdata\u001b[0m \u001b[0;34m=\u001b[0m \u001b[0mreadArxivFile\u001b[0m\u001b[0;34m(\u001b[0m\u001b[0;34m'arxiv-metadata-oai-2019.json'\u001b[0m\u001b[0;34m,\u001b[0m \u001b[0;34m[\u001b[0m\u001b[0;34m'id'\u001b[0m\u001b[0;34m,\u001b[0m \u001b[0;34m'categories'\u001b[0m\u001b[0;34m,\u001b[0m\u001b[0;34m'authors'\u001b[0m\u001b[0;34m,\u001b[0m \u001b[0;34m'update_date'\u001b[0m\u001b[0;34m]\u001b[0m\u001b[0;34m)\u001b[0m\u001b[0;34m\u001b[0m\u001b[0m\n\u001b[0m",
      "\u001b[0;32m<ipython-input-9-0a12822f8596>\u001b[0m in \u001b[0;36mreadArxivFile\u001b[0;34m(path, columns, count)\u001b[0m\n\u001b[1;32m     16\u001b[0m \u001b[0;34m\u001b[0m\u001b[0m\n\u001b[1;32m     17\u001b[0m             \u001b[0md\u001b[0m \u001b[0;34m=\u001b[0m \u001b[0mjson\u001b[0m\u001b[0;34m.\u001b[0m\u001b[0mloads\u001b[0m\u001b[0;34m(\u001b[0m\u001b[0mline\u001b[0m\u001b[0;34m)\u001b[0m\u001b[0;34m\u001b[0m\u001b[0m\n\u001b[0;32m---> 18\u001b[0;31m             \u001b[0md\u001b[0m \u001b[0;34m=\u001b[0m \u001b[0;34m{\u001b[0m\u001b[0mcol\u001b[0m \u001b[0;34m:\u001b[0m \u001b[0md\u001b[0m\u001b[0;34m[\u001b[0m\u001b[0mcol\u001b[0m\u001b[0;34m]\u001b[0m \u001b[0;32mfor\u001b[0m \u001b[0mcol\u001b[0m \u001b[0;32min\u001b[0m \u001b[0mcolumns\u001b[0m\u001b[0;34m}\u001b[0m\u001b[0;34m\u001b[0m\u001b[0m\n\u001b[0m\u001b[1;32m     19\u001b[0m             \u001b[0mdata\u001b[0m\u001b[0;34m.\u001b[0m\u001b[0mappend\u001b[0m\u001b[0;34m(\u001b[0m\u001b[0md\u001b[0m\u001b[0;34m)\u001b[0m\u001b[0;34m\u001b[0m\u001b[0m\n\u001b[1;32m     20\u001b[0m \u001b[0;34m\u001b[0m\u001b[0m\n",
      "\u001b[0;32m<ipython-input-9-0a12822f8596>\u001b[0m in \u001b[0;36m<dictcomp>\u001b[0;34m(.0)\u001b[0m\n\u001b[1;32m     16\u001b[0m \u001b[0;34m\u001b[0m\u001b[0m\n\u001b[1;32m     17\u001b[0m             \u001b[0md\u001b[0m \u001b[0;34m=\u001b[0m \u001b[0mjson\u001b[0m\u001b[0;34m.\u001b[0m\u001b[0mloads\u001b[0m\u001b[0;34m(\u001b[0m\u001b[0mline\u001b[0m\u001b[0;34m)\u001b[0m\u001b[0;34m\u001b[0m\u001b[0m\n\u001b[0;32m---> 18\u001b[0;31m             \u001b[0md\u001b[0m \u001b[0;34m=\u001b[0m \u001b[0;34m{\u001b[0m\u001b[0mcol\u001b[0m \u001b[0;34m:\u001b[0m \u001b[0md\u001b[0m\u001b[0;34m[\u001b[0m\u001b[0mcol\u001b[0m\u001b[0;34m]\u001b[0m \u001b[0;32mfor\u001b[0m \u001b[0mcol\u001b[0m \u001b[0;32min\u001b[0m \u001b[0mcolumns\u001b[0m\u001b[0;34m}\u001b[0m\u001b[0;34m\u001b[0m\u001b[0m\n\u001b[0m\u001b[1;32m     19\u001b[0m             \u001b[0mdata\u001b[0m\u001b[0;34m.\u001b[0m\u001b[0mappend\u001b[0m\u001b[0;34m(\u001b[0m\u001b[0md\u001b[0m\u001b[0;34m)\u001b[0m\u001b[0;34m\u001b[0m\u001b[0m\n\u001b[1;32m     20\u001b[0m \u001b[0;34m\u001b[0m\u001b[0m\n",
      "\u001b[0;31mKeyError\u001b[0m: 'categories'"
     ]
    }
   ],
   "source": [
    "def readArxivFile(path, columns=['id', 'submitter', 'authors', 'title', 'comments', 'journal-ref', 'doi',\n",
    "       'report-no', 'categories', 'license', 'abstract', 'versions',\n",
    "       'update_date', 'authors_parsed'], count=None):\n",
    "    '''\n",
    "    定义读取文件的函数\n",
    "        path: 文件路径\n",
    "        columns: 需要选择的列\n",
    "        count: 读取行数\n",
    "    '''\n",
    "    \n",
    "    data  = []\n",
    "    with open(path, 'r') as f: \n",
    "        for idx, line in enumerate(f): \n",
    "            if idx == count:\n",
    "                break\n",
    "                \n",
    "            d = json.loads(line)\n",
    "            d = {col : d[col] for col in columns}\n",
    "            data.append(d)\n",
    "\n",
    "    data = pd.DataFrame(data)\n",
    "    return data\n",
    "\n",
    "data = readArxivFile('arxiv-metadata-oai-2019.json', ['id', 'categories','authors', 'update_date'])"
   ]
  },
  {
   "cell_type": "code",
   "execution_count": 10,
   "metadata": {},
   "outputs": [
    {
     "data": {
      "text/plain": [
       "count          100\n",
       "unique          31\n",
       "top       astro-ph\n",
       "freq            46\n",
       "Name: categories, dtype: object"
      ]
     },
     "execution_count": 10,
     "metadata": {},
     "output_type": "execute_result"
    }
   ],
   "source": [
    "data[\"categories\"].describe()"
   ]
  },
  {
   "cell_type": "code",
   "execution_count": 11,
   "metadata": {},
   "outputs": [
    {
     "data": {
      "text/plain": [
       "count           100\n",
       "unique          100\n",
       "top       0705.1906\n",
       "freq              1\n",
       "Name: id, dtype: object"
      ]
     },
     "execution_count": 11,
     "metadata": {},
     "output_type": "execute_result"
    }
   ],
   "source": [
    "data[\"id\"].describe()"
   ]
  },
  {
   "cell_type": "code",
   "execution_count": 13,
   "metadata": {},
   "outputs": [
    {
     "data": {
      "text/plain": [
       "count                            100\n",
       "unique                           100\n",
       "top       David Bailin and Alex Love\n",
       "freq                               1\n",
       "Name: authors, dtype: object"
      ]
     },
     "execution_count": 13,
     "metadata": {},
     "output_type": "execute_result"
    }
   ],
   "source": [
    "data[\"authors\"].describe()"
   ]
  },
  {
   "cell_type": "code",
   "execution_count": 14,
   "metadata": {},
   "outputs": [
    {
     "data": {
      "text/plain": [
       "count     100\n",
       "unique      9\n",
       "top        08\n",
       "freq       75\n",
       "Name: months, dtype: object"
      ]
     },
     "execution_count": 14,
     "metadata": {},
     "output_type": "execute_result"
    }
   ],
   "source": [
    "#统计论文发布的月份\n",
    "data[\"months\"] = data[\"update_date\"].apply(lambda x: re.findall('-[0-9][0-9]-',str(x)))\n",
    "data['months'] = data['months'].apply(lambda x: str(x[0].replace('-', '')))\n",
    "data[\"months\"].describe()"
   ]
  },
  {
   "cell_type": "code",
   "execution_count": 15,
   "metadata": {},
   "outputs": [
    {
     "data": {
      "text/html": [
       "<div>\n",
       "<style scoped>\n",
       "    .dataframe tbody tr th:only-of-type {\n",
       "        vertical-align: middle;\n",
       "    }\n",
       "\n",
       "    .dataframe tbody tr th {\n",
       "        vertical-align: top;\n",
       "    }\n",
       "\n",
       "    .dataframe thead th {\n",
       "        text-align: right;\n",
       "    }\n",
       "</style>\n",
       "<table border=\"1\" class=\"dataframe\">\n",
       "  <thead>\n",
       "    <tr style=\"text-align: right;\">\n",
       "      <th></th>\n",
       "      <th>group_name</th>\n",
       "      <th>archive_name</th>\n",
       "      <th>archive_id</th>\n",
       "      <th>category_name</th>\n",
       "      <th>categories</th>\n",
       "      <th>category_description</th>\n",
       "    </tr>\n",
       "  </thead>\n",
       "  <tbody>\n",
       "    <tr>\n",
       "      <th>0</th>\n",
       "      <td>Computer Science</td>\n",
       "      <td>Computer Science</td>\n",
       "      <td>Computer Science</td>\n",
       "      <td>Artificial Intelligence</td>\n",
       "      <td>cs.AI</td>\n",
       "      <td>Covers all areas of AI except Vision, Robotics...</td>\n",
       "    </tr>\n",
       "    <tr>\n",
       "      <th>1</th>\n",
       "      <td>Computer Science</td>\n",
       "      <td>Computer Science</td>\n",
       "      <td>Computer Science</td>\n",
       "      <td>Hardware Architecture</td>\n",
       "      <td>cs.AR</td>\n",
       "      <td>Covers systems organization and hardware archi...</td>\n",
       "    </tr>\n",
       "    <tr>\n",
       "      <th>2</th>\n",
       "      <td>Computer Science</td>\n",
       "      <td>Computer Science</td>\n",
       "      <td>Computer Science</td>\n",
       "      <td>Computational Complexity</td>\n",
       "      <td>cs.CC</td>\n",
       "      <td>Covers models of computation, complexity class...</td>\n",
       "    </tr>\n",
       "    <tr>\n",
       "      <th>3</th>\n",
       "      <td>Computer Science</td>\n",
       "      <td>Computer Science</td>\n",
       "      <td>Computer Science</td>\n",
       "      <td>Computational Engineering, Finance, and Science</td>\n",
       "      <td>cs.CE</td>\n",
       "      <td>Covers applications of computer science to the...</td>\n",
       "    </tr>\n",
       "    <tr>\n",
       "      <th>4</th>\n",
       "      <td>Computer Science</td>\n",
       "      <td>Computer Science</td>\n",
       "      <td>Computer Science</td>\n",
       "      <td>Computational Geometry</td>\n",
       "      <td>cs.CG</td>\n",
       "      <td>Roughly includes material in ACM Subject Class...</td>\n",
       "    </tr>\n",
       "    <tr>\n",
       "      <th>...</th>\n",
       "      <td>...</td>\n",
       "      <td>...</td>\n",
       "      <td>...</td>\n",
       "      <td>...</td>\n",
       "      <td>...</td>\n",
       "      <td>...</td>\n",
       "    </tr>\n",
       "    <tr>\n",
       "      <th>150</th>\n",
       "      <td>Statistics</td>\n",
       "      <td>Statistics</td>\n",
       "      <td>Statistics</td>\n",
       "      <td>Computation</td>\n",
       "      <td>stat.CO</td>\n",
       "      <td>Algorithms, Simulation, Visualization</td>\n",
       "    </tr>\n",
       "    <tr>\n",
       "      <th>151</th>\n",
       "      <td>Statistics</td>\n",
       "      <td>Statistics</td>\n",
       "      <td>Statistics</td>\n",
       "      <td>Methodology</td>\n",
       "      <td>stat.ME</td>\n",
       "      <td>Design, Surveys, Model Selection, Multiple Tes...</td>\n",
       "    </tr>\n",
       "    <tr>\n",
       "      <th>152</th>\n",
       "      <td>Statistics</td>\n",
       "      <td>Statistics</td>\n",
       "      <td>Statistics</td>\n",
       "      <td>Machine Learning</td>\n",
       "      <td>stat.ML</td>\n",
       "      <td>Covers machine learning papers (supervised, un...</td>\n",
       "    </tr>\n",
       "    <tr>\n",
       "      <th>153</th>\n",
       "      <td>Statistics</td>\n",
       "      <td>Statistics</td>\n",
       "      <td>Statistics</td>\n",
       "      <td>Other Statistics</td>\n",
       "      <td>stat.OT</td>\n",
       "      <td>Work in statistics that does not fit into the ...</td>\n",
       "    </tr>\n",
       "    <tr>\n",
       "      <th>154</th>\n",
       "      <td>Statistics</td>\n",
       "      <td>Statistics</td>\n",
       "      <td>Statistics</td>\n",
       "      <td>Statistics Theory</td>\n",
       "      <td>stat.TH</td>\n",
       "      <td>stat.TH is an alias for math.ST. Asymptotics, ...</td>\n",
       "    </tr>\n",
       "  </tbody>\n",
       "</table>\n",
       "<p>155 rows × 6 columns</p>\n",
       "</div>"
      ],
      "text/plain": [
       "           group_name      archive_name        archive_id  \\\n",
       "0    Computer Science  Computer Science  Computer Science   \n",
       "1    Computer Science  Computer Science  Computer Science   \n",
       "2    Computer Science  Computer Science  Computer Science   \n",
       "3    Computer Science  Computer Science  Computer Science   \n",
       "4    Computer Science  Computer Science  Computer Science   \n",
       "..                ...               ...               ...   \n",
       "150        Statistics        Statistics        Statistics   \n",
       "151        Statistics        Statistics        Statistics   \n",
       "152        Statistics        Statistics        Statistics   \n",
       "153        Statistics        Statistics        Statistics   \n",
       "154        Statistics        Statistics        Statistics   \n",
       "\n",
       "                                       category_name categories  \\\n",
       "0                            Artificial Intelligence      cs.AI   \n",
       "1                              Hardware Architecture      cs.AR   \n",
       "2                           Computational Complexity      cs.CC   \n",
       "3    Computational Engineering, Finance, and Science      cs.CE   \n",
       "4                             Computational Geometry      cs.CG   \n",
       "..                                               ...        ...   \n",
       "150                                      Computation    stat.CO   \n",
       "151                                      Methodology    stat.ME   \n",
       "152                                 Machine Learning    stat.ML   \n",
       "153                                 Other Statistics    stat.OT   \n",
       "154                                Statistics Theory    stat.TH   \n",
       "\n",
       "                                  category_description  \n",
       "0    Covers all areas of AI except Vision, Robotics...  \n",
       "1    Covers systems organization and hardware archi...  \n",
       "2    Covers models of computation, complexity class...  \n",
       "3    Covers applications of computer science to the...  \n",
       "4    Roughly includes material in ACM Subject Class...  \n",
       "..                                                 ...  \n",
       "150              Algorithms, Simulation, Visualization  \n",
       "151  Design, Surveys, Model Selection, Multiple Tes...  \n",
       "152  Covers machine learning papers (supervised, un...  \n",
       "153  Work in statistics that does not fit into the ...  \n",
       "154  stat.TH is an alias for math.ST. Asymptotics, ...  \n",
       "\n",
       "[155 rows x 6 columns]"
      ]
     },
     "execution_count": 15,
     "metadata": {},
     "output_type": "execute_result"
    }
   ],
   "source": [
    "#爬取所有的类别\n",
    "website_url = requests.get('https://arxiv.org/category_taxonomy').text #获取网页的文本数据\n",
    "soup = BeautifulSoup(website_url) #爬取数据，这里使用lxml的解析器，加速\n",
    "root = soup.find('div',{'id':'category_taxonomy_list'}) #找出 BeautifulSoup 对应的标签入口\n",
    "tags = root.find_all([\"h2\",\"h3\",\"h4\",\"p\"], recursive=True) #读取 tags\n",
    "\n",
    "#初始化 str 和 list 变量\n",
    "level_1_name = \"\"\n",
    "level_2_name = \"\"\n",
    "level_2_code = \"\"\n",
    "level_1_names = []\n",
    "level_2_codes = []\n",
    "level_2_names = []\n",
    "level_3_codes = []\n",
    "level_3_names = []\n",
    "level_3_notes = []\n",
    "\n",
    "#进行\n",
    "for t in tags:\n",
    "    if t.name == \"h2\":\n",
    "        level_1_name = t.text    \n",
    "        level_2_code = t.text\n",
    "        level_2_name = t.text\n",
    "    elif t.name == \"h3\":\n",
    "        raw = t.text\n",
    "        level_2_code = re.sub(r\"(.*)\\((.*)\\)\",r\"\\2\",raw) #正则表达式：模式字符串：(.*)\\((.*)\\)；被替换字符串\"\\2\"；被处理字符串：raw\n",
    "        level_2_name = re.sub(r\"(.*)\\((.*)\\)\",r\"\\1\",raw)\n",
    "    elif t.name == \"h4\":\n",
    "        raw = t.text\n",
    "        level_3_code = re.sub(r\"(.*) \\((.*)\\)\",r\"\\1\",raw)\n",
    "        level_3_name = re.sub(r\"(.*) \\((.*)\\)\",r\"\\2\",raw)\n",
    "    elif t.name == \"p\":\n",
    "        notes = t.text\n",
    "        level_1_names.append(level_1_name)\n",
    "        level_2_names.append(level_2_name)\n",
    "        level_2_codes.append(level_2_code)\n",
    "        level_3_names.append(level_3_name)\n",
    "        level_3_codes.append(level_3_code)\n",
    "        level_3_notes.append(notes)\n",
    "\n",
    "#根据以上信息生成dataframe格式的数据\n",
    "df_taxonomy = pd.DataFrame({\n",
    "    'group_name' : level_1_names,\n",
    "    'archive_name' : level_2_names,\n",
    "    'archive_id' : level_2_codes,\n",
    "    'category_name' : level_3_names,\n",
    "    'categories' : level_3_codes,\n",
    "    'category_description': level_3_notes\n",
    "    \n",
    "})\n",
    "\n",
    "#按照 \"group_name\" 进行分组，在组内使用 \"archive_name\" 进行排序\n",
    "df_taxonomy.groupby([\"group_name\",\"archive_name\"])\n",
    "df_taxonomy"
   ]
  },
  {
   "cell_type": "code",
   "execution_count": 16,
   "metadata": {},
   "outputs": [
    {
     "data": {
      "text/plain": [
       "count         155\n",
       "unique          8\n",
       "top       Physics\n",
       "freq           51\n",
       "Name: group_name, dtype: object"
      ]
     },
     "execution_count": 16,
     "metadata": {},
     "output_type": "execute_result"
    }
   ],
   "source": [
    "#总共有8大类\n",
    "df_taxonomy[\"group_name\"].describe()"
   ]
  },
  {
   "cell_type": "code",
   "execution_count": 17,
   "metadata": {},
   "outputs": [
    {
     "data": {
      "text/html": [
       "<div>\n",
       "<style scoped>\n",
       "    .dataframe tbody tr th:only-of-type {\n",
       "        vertical-align: middle;\n",
       "    }\n",
       "\n",
       "    .dataframe tbody tr th {\n",
       "        vertical-align: top;\n",
       "    }\n",
       "\n",
       "    .dataframe thead th {\n",
       "        text-align: right;\n",
       "    }\n",
       "</style>\n",
       "<table border=\"1\" class=\"dataframe\">\n",
       "  <thead>\n",
       "    <tr style=\"text-align: right;\">\n",
       "      <th></th>\n",
       "      <th>group_name</th>\n",
       "      <th>sum</th>\n",
       "    </tr>\n",
       "  </thead>\n",
       "  <tbody>\n",
       "    <tr>\n",
       "      <th>0</th>\n",
       "      <td>Physics</td>\n",
       "      <td>51</td>\n",
       "    </tr>\n",
       "    <tr>\n",
       "      <th>1</th>\n",
       "      <td>Computer Science</td>\n",
       "      <td>40</td>\n",
       "    </tr>\n",
       "    <tr>\n",
       "      <th>2</th>\n",
       "      <td>Mathematics</td>\n",
       "      <td>32</td>\n",
       "    </tr>\n",
       "    <tr>\n",
       "      <th>3</th>\n",
       "      <td>Quantitative Biology</td>\n",
       "      <td>10</td>\n",
       "    </tr>\n",
       "    <tr>\n",
       "      <th>4</th>\n",
       "      <td>Quantitative Finance</td>\n",
       "      <td>9</td>\n",
       "    </tr>\n",
       "    <tr>\n",
       "      <th>5</th>\n",
       "      <td>Statistics</td>\n",
       "      <td>6</td>\n",
       "    </tr>\n",
       "    <tr>\n",
       "      <th>6</th>\n",
       "      <td>Electrical Engineering and Systems Science</td>\n",
       "      <td>4</td>\n",
       "    </tr>\n",
       "    <tr>\n",
       "      <th>7</th>\n",
       "      <td>Economics</td>\n",
       "      <td>3</td>\n",
       "    </tr>\n",
       "  </tbody>\n",
       "</table>\n",
       "</div>"
      ],
      "text/plain": [
       "                                   group_name  sum\n",
       "0                                     Physics   51\n",
       "1                            Computer Science   40\n",
       "2                                 Mathematics   32\n",
       "3                        Quantitative Biology   10\n",
       "4                        Quantitative Finance    9\n",
       "5                                  Statistics    6\n",
       "6  Electrical Engineering and Systems Science    4\n",
       "7                                   Economics    3"
      ]
     },
     "execution_count": 17,
     "metadata": {},
     "output_type": "execute_result"
    }
   ],
   "source": [
    "df_taxonomy[\"sum\"] = 0\n",
    "df = df_taxonomy.groupby(\"group_name\").agg({\"sum\":\"count\"}).sort_values(by=\"sum\",ascending=False).reset_index()\n",
    "df"
   ]
  },
  {
   "cell_type": "code",
   "execution_count": 18,
   "metadata": {},
   "outputs": [
    {
     "data": {
      "image/png": "[encoded data removed]",
      "text/plain": [
       "<Figure size 1080x864 with 1 Axes>"
      ]
     },
     "metadata": {},
     "output_type": "display_data"
    }
   ],
   "source": [
    "fig = plt.figure(figsize=(15,12))\n",
    "plt.pie(df[\"sum\"],  labels=df[\"group_name\"], autopct='%1.2f%%', startangle=160)\n",
    "plt.tight_layout()\n",
    "plt.show()"
   ]
  },
  {
   "cell_type": "code",
   "execution_count": 19,
   "metadata": {},
   "outputs": [
    {
     "data": {
      "text/html": [
       "<div>\n",
       "<style scoped>\n",
       "    .dataframe tbody tr th:only-of-type {\n",
       "        vertical-align: middle;\n",
       "    }\n",
       "\n",
       "    .dataframe tbody tr th {\n",
       "        vertical-align: top;\n",
       "    }\n",
       "\n",
       "    .dataframe thead th {\n",
       "        text-align: right;\n",
       "    }\n",
       "</style>\n",
       "<table border=\"1\" class=\"dataframe\">\n",
       "  <thead>\n",
       "    <tr style=\"text-align: right;\">\n",
       "      <th></th>\n",
       "      <th>categories</th>\n",
       "      <th>sum</th>\n",
       "    </tr>\n",
       "  </thead>\n",
       "  <tbody>\n",
       "    <tr>\n",
       "      <th>0</th>\n",
       "      <td>astro-ph</td>\n",
       "      <td>46</td>\n",
       "    </tr>\n",
       "    <tr>\n",
       "      <th>1</th>\n",
       "      <td>math</td>\n",
       "      <td>17</td>\n",
       "    </tr>\n",
       "    <tr>\n",
       "      <th>2</th>\n",
       "      <td>hep-ex</td>\n",
       "      <td>13</td>\n",
       "    </tr>\n",
       "    <tr>\n",
       "      <th>3</th>\n",
       "      <td>nucl-ex</td>\n",
       "      <td>7</td>\n",
       "    </tr>\n",
       "    <tr>\n",
       "      <th>4</th>\n",
       "      <td>math-ph</td>\n",
       "      <td>4</td>\n",
       "    </tr>\n",
       "    <tr>\n",
       "      <th>5</th>\n",
       "      <td>quant-ph</td>\n",
       "      <td>3</td>\n",
       "    </tr>\n",
       "    <tr>\n",
       "      <th>6</th>\n",
       "      <td>cond-mat</td>\n",
       "      <td>2</td>\n",
       "    </tr>\n",
       "    <tr>\n",
       "      <th>7</th>\n",
       "      <td>cs</td>\n",
       "      <td>2</td>\n",
       "    </tr>\n",
       "    <tr>\n",
       "      <th>8</th>\n",
       "      <td>gr-qc</td>\n",
       "      <td>2</td>\n",
       "    </tr>\n",
       "    <tr>\n",
       "      <th>9</th>\n",
       "      <td>hep-th</td>\n",
       "      <td>2</td>\n",
       "    </tr>\n",
       "    <tr>\n",
       "      <th>10</th>\n",
       "      <td>hep-ph</td>\n",
       "      <td>1</td>\n",
       "    </tr>\n",
       "    <tr>\n",
       "      <th>11</th>\n",
       "      <td>nlin</td>\n",
       "      <td>1</td>\n",
       "    </tr>\n",
       "  </tbody>\n",
       "</table>\n",
       "</div>"
      ],
      "text/plain": [
       "   categories  sum\n",
       "0    astro-ph   46\n",
       "1        math   17\n",
       "2      hep-ex   13\n",
       "3     nucl-ex    7\n",
       "4     math-ph    4\n",
       "5    quant-ph    3\n",
       "6    cond-mat    2\n",
       "7          cs    2\n",
       "8       gr-qc    2\n",
       "9      hep-th    2\n",
       "10     hep-ph    1\n",
       "11       nlin    1"
      ]
     },
     "execution_count": 19,
     "metadata": {},
     "output_type": "execute_result"
    }
   ],
   "source": [
    "data['categories'] = data['categories'].apply(lambda x: x.split(' ')[0])\n",
    "data['categories'] = data['categories'].apply(lambda x: x.split('.')[0])\n",
    "data[\"sum\"] = 0\n",
    "df2 = data.groupby(\"categories\").agg({\"sum\":\"count\"}).sort_values(by=\"sum\",ascending=False).reset_index()\n",
    "df2"
   ]
  },
  {
   "cell_type": "code",
   "execution_count": 20,
   "metadata": {},
   "outputs": [
    {
     "data": {
      "image/png": "[encoded data removed]",
      "text/plain": [
       "<Figure size 1080x864 with 1 Axes>"
      ]
     },
     "metadata": {},
     "output_type": "display_data"
    }
   ],
   "source": [
    "fig = plt.figure(figsize=(15,12))\n",
    "plt.pie(df2[\"sum\"],  labels=df2[\"categories\"], autopct='%1.2f%%', startangle=160)\n",
    "plt.tight_layout()\n",
    "plt.show()"
   ]
  },
  {
   "cell_type": "code",
   "execution_count": null,
   "metadata": {},
   "outputs": [],
   "source": []
  }
 ],
 "metadata": {
  "kernelspec": {
   "display_name": "Python 3",
   "language": "python",
   "name": "python3"
  },
  "language_info": {
   "codemirror_mode": {
    "name": "ipython",
    "version": 3
   },
   "file_extension": ".py",
   "mimetype": "text/x-python",
   "name": "python",
   "nbconvert_exporter": "python",
   "pygments_lexer": "ipython3",
   "version": "3.6.5"
  },
  "tianchi_metadata": {
   "competitions": [],
   "datasets": [
    {
     "id": "88336",
     "title": "零基础入门数据分析-学术前沿趋势分析"
    }
   ],
   "description": "",
   "notebookId": "298587",
   "source": "dsw"
  }
 },
 "nbformat": 4,
 "nbformat_minor": 4
}
