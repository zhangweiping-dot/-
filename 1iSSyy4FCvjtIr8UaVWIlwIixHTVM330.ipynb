{
 "cells": [
  {
   "cell_type": "code",
   "execution_count": 4,
   "metadata": {},
   "outputs": [],
   "source": [
    "# 导入所需的package\n",
    "import seaborn as sns #用于画图\n",
    "from bs4 import BeautifulSoup #用于爬取arxiv的数据\n",
    "import re #用于正则表达式，匹配字符串的模式\n",
    "import requests #用于网络连接，发送网络请求，使用域名获取对应信息\n",
    "import json #读取数据，我们的数据为json格式的\n",
    "import pandas as pd #数据处理，数据分析\n",
    "import matplotlib.pyplot as plt #画图工具"
   ]
  },
  {
   "cell_type": "code",
   "execution_count": 5,
   "metadata": {},
   "outputs": [],
   "source": [
    "def readArxivFile(path, columns=['id', 'submitter', 'authors', 'title', 'comments', 'journal-ref', 'doi',\n",
    "       'report-no', 'categories', 'license', 'abstract', 'versions',\n",
    "       'update_date', 'authors_parsed'], count=None):\n",
    "    '''\n",
    "    定义读取文件的函数\n",
    "        path: 文件路径\n",
    "        columns: 需要选择的列\n",
    "        count: 读取行数\n",
    "    '''\n",
    "    \n",
    "    data  = []\n",
    "    with open(path, 'r') as f: \n",
    "        for idx, line in enumerate(f): \n",
    "            if idx == count:\n",
    "                break\n",
    "                \n",
    "            d = json.loads(line)\n",
    "            d = {col : d[col] for col in columns}\n",
    "            data.append(d)\n",
    "\n",
    "    data = pd.DataFrame(data)\n",
    "    return data\n",
    "\n",
    "data = readArxivFile('arxiv-metadata-oai-2019.json', \n",
    "                     ['id', 'authors', 'categories', 'authors_parsed'],\n",
    "                    1000)\n"
   ]
  },
  {
   "cell_type": "code",
   "execution_count": 6,
   "metadata": {},
   "outputs": [],
   "source": [
    "# 选择类别为cs.CV下面的论文\n",
    "#data2 = data[data['categories'].apply(lambda x: 'cs.CV' in x)]\n",
    "\n",
    "# 拼接所有作者\n",
    "all_authors = sum(data['authors_parsed'], [])"
   ]
  },
  {
   "cell_type": "code",
   "execution_count": 7,
   "metadata": {},
   "outputs": [
    {
     "data": {
      "text/html": [
       "<div>\n",
       "<style scoped>\n",
       "    .dataframe tbody tr th:only-of-type {\n",
       "        vertical-align: middle;\n",
       "    }\n",
       "\n",
       "    .dataframe tbody tr th {\n",
       "        vertical-align: top;\n",
       "    }\n",
       "\n",
       "    .dataframe thead th {\n",
       "        text-align: right;\n",
       "    }\n",
       "</style>\n",
       "<table border=\"1\" class=\"dataframe\">\n",
       "  <thead>\n",
       "    <tr style=\"text-align: right;\">\n",
       "      <th></th>\n",
       "      <th>id</th>\n",
       "      <th>authors</th>\n",
       "      <th>categories</th>\n",
       "      <th>authors_parsed</th>\n",
       "    </tr>\n",
       "  </thead>\n",
       "  <tbody>\n",
       "    <tr>\n",
       "      <th>531</th>\n",
       "      <td>0802.1412</td>\n",
       "      <td>Mahesh Pal</td>\n",
       "      <td>cs.NE cs.CV</td>\n",
       "      <td>[[Pal, Mahesh, ]]</td>\n",
       "    </tr>\n",
       "    <tr>\n",
       "      <th>851</th>\n",
       "      <td>1504.02164</td>\n",
       "      <td>Xiangru Li, Yu Lu, Georges Comte, Ali Luo, Yon...</td>\n",
       "      <td>astro-ph.SR astro-ph.IM cs.CV</td>\n",
       "      <td>[[Li, Xiangru, ], [Lu, Yu, ], [Comte, Georges,...</td>\n",
       "    </tr>\n",
       "    <tr>\n",
       "      <th>867</th>\n",
       "      <td>1504.03410</td>\n",
       "      <td>Hanjiang Lai, Yan Pan, Ye Liu and Shuicheng Yan</td>\n",
       "      <td>cs.CV</td>\n",
       "      <td>[[Lai, Hanjiang, ], [Pan, Yan, ], [Liu, Ye, ],...</td>\n",
       "    </tr>\n",
       "  </tbody>\n",
       "</table>\n",
       "</div>"
      ],
      "text/plain": [
       "             id                                            authors  \\\n",
       "531   0802.1412                                         Mahesh Pal   \n",
       "851  1504.02164  Xiangru Li, Yu Lu, Georges Comte, Ali Luo, Yon...   \n",
       "867  1504.03410    Hanjiang Lai, Yan Pan, Ye Liu and Shuicheng Yan   \n",
       "\n",
       "                        categories  \\\n",
       "531                    cs.NE cs.CV   \n",
       "851  astro-ph.SR astro-ph.IM cs.CV   \n",
       "867                          cs.CV   \n",
       "\n",
       "                                        authors_parsed  \n",
       "531                                  [[Pal, Mahesh, ]]  \n",
       "851  [[Li, Xiangru, ], [Lu, Yu, ], [Comte, Georges,...  \n",
       "867  [[Lai, Hanjiang, ], [Pan, Yan, ], [Liu, Ye, ],...  "
      ]
     },
     "execution_count": 7,
     "metadata": {},
     "output_type": "execute_result"
    }
   ],
   "source": [
    "data2.head()"
   ]
  },
  {
   "cell_type": "code",
   "execution_count": 8,
   "metadata": {},
   "outputs": [
    {
     "data": {
      "text/plain": [
       "Text(0.5, 0, 'Count')"
      ]
     },
     "execution_count": 8,
     "metadata": {},
     "output_type": "execute_result"
    },
    {
     "data": {
      "image/png": "[encoded data removed]",
      "text/plain": [
       "<Figure size 720x432 with 1 Axes>"
      ]
     },
     "metadata": {
      "needs_background": "light"
     },
     "output_type": "display_data"
    }
   ],
   "source": [
    "# 拼接所有的作者\n",
    "authors_names = [' '.join(x) for x in all_authors]\n",
    "authors_names = pd.DataFrame(authors_names)\n",
    "\n",
    "# 根据作者频率绘制直方图\n",
    "plt.figure(figsize=(10, 6))\n",
    "authors_names[0].value_counts().head(10).plot(kind='barh')\n",
    "\n",
    "# 修改图配置\n",
    "names = authors_names[0].value_counts().index.values[:10]\n",
    "_ = plt.yticks(range(0, len(names)), names)\n",
    "plt.ylabel('Author')\n",
    "plt.xlabel('Count')"
   ]
  },
  {
   "cell_type": "code",
   "execution_count": 9,
   "metadata": {},
   "outputs": [
    {
     "data": {
      "text/plain": [
       "Text(0.5, 0, 'Count')"
      ]
     },
     "execution_count": 9,
     "metadata": {},
     "output_type": "execute_result"
    },
    {
     "data": {
      "image/png": "[encoded data removed]",
      "text/plain": [
       "<Figure size 720x432 with 1 Axes>"
      ]
     },
     "metadata": {
      "needs_background": "light"
     },
     "output_type": "display_data"
    }
   ],
   "source": [
    "authors_lastnames = [x[0] for x in all_authors]\n",
    "authors_lastnames = pd.DataFrame(authors_lastnames)\n",
    "\n",
    "plt.figure(figsize=(10, 6))\n",
    "authors_lastnames[0].value_counts().head(10).plot(kind='barh')\n",
    "\n",
    "names = authors_lastnames[0].value_counts().index.values[:10]\n",
    "_ = plt.yticks(range(0, len(names)), names)\n",
    "plt.ylabel('Author')\n",
    "plt.xlabel('Count')"
   ]
  },
  {
   "cell_type": "code",
   "execution_count": 10,
   "metadata": {},
   "outputs": [
    {
     "data": {
      "image/png": "[encoded data removed]",
      "text/plain": [
       "<Figure size 720x432 with 1 Axes>"
      ]
     },
     "metadata": {
      "needs_background": "light"
     },
     "output_type": "display_data"
    }
   ],
   "source": [
    "#作者姓的第一个字符统计\n",
    "authors_firstchar = [x[0][0] for x in all_authors]\n",
    "authors_firstchar = pd.DataFrame(authors_firstchar)\n",
    "\n",
    "plt.figure(figsize=(10, 6))\n",
    "authors_firstchar[0].value_counts().head(10).plot(kind='barh')\n",
    "\n",
    "names = authors_firstchar[0].value_counts().index.values[:10]\n",
    "_ = plt.yticks(range(0, len(names)), names)\n",
    "plt.ylabel('Author')\n",
    "plt.xlabel('Count')\n",
    "plt.show()"
   ]
  },
  {
   "cell_type": "code",
   "execution_count": null,
   "metadata": {},
   "outputs": [],
   "source": []
  },
  {
   "cell_type": "code",
   "execution_count": null,
   "metadata": {},
   "outputs": [],
   "source": []
  }
 ],
 "metadata": {
  "kernelspec": {
   "display_name": "Python 3",
   "language": "python",
   "name": "python3"
  },
  "language_info": {
   "codemirror_mode": {
    "name": "ipython",
    "version": 3
   },
   "file_extension": ".py",
   "mimetype": "text/x-python",
   "name": "python",
   "nbconvert_exporter": "python",
   "pygments_lexer": "ipython3",
   "version": "3.6.5"
  },
  "tianchi_metadata": {
   "competitions": [],
   "datasets": [
    {
     "id": "88336",
     "title": "零基础入门数据分析-学术前沿趋势分析"
    }
   ],
   "description": "",
   "notebookId": "300961",
   "source": "dsw"
  }
 },
 "nbformat": 4,
 "nbformat_minor": 4
}
